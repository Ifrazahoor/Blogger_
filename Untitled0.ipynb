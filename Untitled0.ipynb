{
  "nbformat": 4,
  "nbformat_minor": 0,
  "metadata": {
    "colab": {
      "provenance": [],
      "authorship_tag": "ABX9TyNrbj6yyGyODzPNG5UEy8xJ",
      "include_colab_link": true
    },
    "kernelspec": {
      "name": "python3",
      "display_name": "Python 3"
    },
    "language_info": {
      "name": "python"
    }
  },
  "cells": [
    {
      "cell_type": "markdown",
      "metadata": {
        "id": "view-in-github",
        "colab_type": "text"
      },
      "source": [
        "<a href=\"https://colab.research.google.com/github/Ifrazahoor/Blogger_/blob/main/Untitled0.ipynb\" target=\"_parent\"><img src=\"https://colab.research.google.com/assets/colab-badge.svg\" alt=\"Open In Colab\"/></a>"
      ]
    },
    {
      "cell_type": "markdown",
      "source": [
        "# ***Countdown_Timer_Python_Project***"
      ],
      "metadata": {
        "id": "J7Mud4U0FW28"
      }
    },
    {
      "cell_type": "code",
      "execution_count": null,
      "metadata": {
        "id": "bW-3dZzjFT_H"
      },
      "outputs": [],
      "source": [
        "import time\n",
        "\n",
        "#function for user is enter another type of value\n",
        "def valid_input():\n",
        "  while True:\n",
        "    try:\n",
        "      user_input=int(input(\"Enter the time in seconds: \"))\n",
        "      return user_input\n",
        "    except:\n",
        "      print(\"Invalid input, Please enter a number\")\n",
        "\n",
        "def count_down(seconds):\n",
        "  while seconds > 0:\n",
        "    print (f\"Time left: {seconds} seconds\")\n",
        "    time.sleep(1)\n",
        "    seconds -=1\n",
        "  print(\"Times Up!\")\n",
        "\n",
        "user_input = valid_input()\n",
        "count_down(user_input)"
      ]
    }
  ]
}